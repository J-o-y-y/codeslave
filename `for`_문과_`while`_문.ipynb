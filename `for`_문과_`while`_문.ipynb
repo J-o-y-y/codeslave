{
  "nbformat": 4,
  "nbformat_minor": 0,
  "metadata": {
    "colab": {
      "provenance": [],
      "authorship_tag": "ABX9TyNBa5R0DZfR5lKkECjshn1f",
      "include_colab_link": true
    },
    "kernelspec": {
      "name": "python3",
      "display_name": "Python 3"
    },
    "language_info": {
      "name": "python"
    }
  },
  "cells": [
    {
      "cell_type": "markdown",
      "metadata": {
        "id": "view-in-github",
        "colab_type": "text"
      },
      "source": [
        "<a href=\"https://colab.research.google.com/github/J-o-y-y/codeslave/blob/main/%60for%60_%EB%AC%B8%EA%B3%BC_%60while%60_%EB%AC%B8.ipynb\" target=\"_parent\"><img src=\"https://colab.research.google.com/assets/colab-badge.svg\" alt=\"Open In Colab\"/></a>"
      ]
    },
    {
      "cell_type": "code",
      "execution_count": null,
      "metadata": {
        "id": "eHYLiu4S2cOJ"
      },
      "outputs": [],
      "source": [
        "`for` 문과 `while` 문은 파이썬에서 반복적인 작업을 수행하는 데 사용되는 두 가지 주요 루프(loop)입니다. 이들의 차이와 공통점을 살펴보겠습니다.\n",
        "\n",
        "**공통점:**\n",
        "1. 둘 다 반복적인 작업을 수행하기 위해 사용됩니다.\n",
        "2. 조건이 충족되는 동안 코드 블록이 반복적으로 실행됩니다.\n",
        "3. 반복 횟수를 제어하기 위해 조건을 사용합니다.\n",
        "\n",
        "**for 문:**\n",
        "1. `for` 문은 시퀀스(리스트, 튜플, 문자열 등)의 각 요소를 반복적으로 처리하는 데 사용됩니다.\n",
        "2. `for` 문은 주어진 시퀀스의 모든 요소에 대해 순차적으로 작업을 수행합니다.\n",
        "3. 미리 알고 있는 횟수만큼 반복할 때 유용합니다.\n",
        "\n",
        "**for 문의 사용 예시:**\n",
        "```python\n",
        "fruits = ['apple', 'banana', 'orange']\n",
        "for fruit in fruits:\n",
        "    print(fruit)\n",
        "```\n",
        "이 예제에서 `for` 문은 `fruits` 리스트의 각 요소를 변수 `fruit`에 할당하고, 각 과일을 출력합니다.\n",
        "\n"
      ]
    },
    {
      "cell_type": "code",
      "source": [
        "fruits = ['apple', 'banana', 'orange']\n",
        "for fruit in fruits:\n",
        "    print(fruit)\n"
      ],
      "metadata": {
        "colab": {
          "base_uri": "https://localhost:8080/"
        },
        "id": "y2zUOV002kf2",
        "outputId": "20db2b74-e10e-49c7-8be8-ac8d5f01d925"
      },
      "execution_count": 1,
      "outputs": [
        {
          "output_type": "stream",
          "name": "stdout",
          "text": [
            "apple\n",
            "banana\n",
            "orange\n"
          ]
        }
      ]
    },
    {
      "cell_type": "code",
      "source": [
        "**while 문:**\n",
        "1. `while` 문은 조건식이 참(True)인 동안 코드 블록을 반복적으로 실행합니다.\n",
        "2. `while` 문은 조건을 검사한 후에 실행 여부를 결정합니다.\n",
        "3. 조건이 미리 알려지지 않았거나 조건에 따라 반복 횟수가 다를 때 유용합니다.\n",
        "\n",
        "**while 문의 사용 예시:**\n",
        "```python\n",
        "count = 0\n",
        "while count < 5:\n",
        "    print(count)\n",
        "    count += 1\n",
        "```\n",
        "이 예제에서 `while` 문은 `count` 변수가 5보다 작을 때까지 반복적으로 `count` 값을 출력하고 `count`를 1씩 증가시킵니다.\n",
        "\n"
      ],
      "metadata": {
        "id": "NMpVQ_-w2jOD"
      },
      "execution_count": null,
      "outputs": []
    },
    {
      "cell_type": "code",
      "source": [
        "count = 0\n",
        "while count < 5:\n",
        "    print(count)\n",
        "    count += 1\n"
      ],
      "metadata": {
        "colab": {
          "base_uri": "https://localhost:8080/"
        },
        "id": "YdwPAqUQ2xsk",
        "outputId": "2f03b392-7a2c-4d3a-89f3-32603a3e14e1"
      },
      "execution_count": 2,
      "outputs": [
        {
          "output_type": "stream",
          "name": "stdout",
          "text": [
            "0\n",
            "1\n",
            "2\n",
            "3\n",
            "4\n"
          ]
        }
      ]
    },
    {
      "cell_type": "code",
      "source": [
        "**차이점 요약:**\n",
        "- `for` 문은 시퀀스의 각 요소에 대해 반복 작업을 수행하고, `while` 문은 조건이 참인 동안 반복 작업을 수행합니다.\n",
        "- `for` 문은 미리 알고 있는 횟수만큼 반복할 때 사용하고, `while` 문은 조건에 따라 반복 횟수가 다를 때 사용합니다.\n",
        "\n",
        "따라서, `for` 문은 주로 시퀀스를 순회하거나 미리 알고 있는 횟수만큼 반복 작업을 수행할 때 사용하며, `while` 문은 조건에 따라 반복 작업을 수행하고자 할 때 사용합니다."
      ],
      "metadata": {
        "id": "RAETGiqT26JP"
      },
      "execution_count": null,
      "outputs": []
    }
  ]
}