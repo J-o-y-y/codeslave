{
  "nbformat": 4,
  "nbformat_minor": 0,
  "metadata": {
    "colab": {
      "provenance": [],
      "authorship_tag": "ABX9TyMlLVhiefZ0JgSW6GWzrX1C",
      "include_colab_link": true
    },
    "kernelspec": {
      "name": "python3",
      "display_name": "Python 3"
    },
    "language_info": {
      "name": "python"
    }
  },
  "cells": [
    {
      "cell_type": "markdown",
      "metadata": {
        "id": "view-in-github",
        "colab_type": "text"
      },
      "source": [
        "<a href=\"https://colab.research.google.com/github/J-o-y-y/codeslave/blob/main/Control_flow_Recap_.ipynb\" target=\"_parent\"><img src=\"https://colab.research.google.com/assets/colab-badge.svg\" alt=\"Open In Colab\"/></a>"
      ]
    },
    {
      "cell_type": "code",
      "execution_count": null,
      "metadata": {
        "id": "J7HWlQ4wxp6Z"
      },
      "outputs": [],
      "source": [
        "#Recap"
      ]
    },
    {
      "cell_type": "code",
      "source": [
        "winner = 5\n",
        "\n",
        "if winner < 10:\n",
        "  print(\"If\")\n",
        "else:\n",
        "  print(\"Else\")"
      ],
      "metadata": {
        "colab": {
          "base_uri": "https://localhost:8080/"
        },
        "id": "pzt2yYHnyFA8",
        "outputId": "e200d68e-e28e-4ddd-9ee2-01f3a79fb164"
      },
      "execution_count": 2,
      "outputs": [
        {
          "output_type": "stream",
          "name": "stdout",
          "text": [
            "If\n"
          ]
        }
      ]
    },
    {
      "cell_type": "code",
      "source": [
        "winner = 50\n",
        "\n",
        "if winner < 10:\n",
        "  print(\"If\")\n",
        "else:\n",
        "  print(\"Else\")"
      ],
      "metadata": {
        "colab": {
          "base_uri": "https://localhost:8080/"
        },
        "id": "EjcJlZGHy6Jn",
        "outputId": "b292964d-3bad-49e1-9fbc-a260e4327eff"
      },
      "execution_count": 1,
      "outputs": [
        {
          "output_type": "stream",
          "name": "stdout",
          "text": [
            "Else\n"
          ]
        }
      ]
    },
    {
      "cell_type": "code",
      "source": [
        "winner = 50\n",
        "\n",
        "if winner != 10:\n",
        "  print(\"If\")\n",
        "else:\n",
        "  print(\"Else\")"
      ],
      "metadata": {
        "colab": {
          "base_uri": "https://localhost:8080/"
        },
        "id": "aaNR0mnLzF8O",
        "outputId": "6f94c7bd-6a02-4328-c903-74e9aa3f07f7"
      },
      "execution_count": 2,
      "outputs": [
        {
          "output_type": "stream",
          "name": "stdout",
          "text": [
            "If\n"
          ]
        }
      ]
    },
    {
      "cell_type": "code",
      "source": [
        "winner = 50\n",
        "\n",
        "if winner != 50:\n",
        "  print(\"If\")\n",
        "else:\n",
        "  print(\"Else\")"
      ],
      "metadata": {
        "colab": {
          "base_uri": "https://localhost:8080/"
        },
        "id": "AjVUjtTIzMVt",
        "outputId": "ee46f38c-5022-4ca5-dfad-662046851fdf"
      },
      "execution_count": 3,
      "outputs": [
        {
          "output_type": "stream",
          "name": "stdout",
          "text": [
            "Else\n"
          ]
        }
      ]
    },
    {
      "cell_type": "code",
      "source": [
        "winner = 50\n",
        "\n",
        "if winner != 10:\n",
        "  print(\"If\")\n",
        "elif winner <=25:\n",
        "  print(\"elif\")\n",
        "elif winner <=0:\n",
        "  print(\"elif 2\")\n",
        "elif winner <=55:\n",
        "  print(\"elif 3\")\n",
        "else:\n",
        "  print(\"Else\")"
      ],
      "metadata": {
        "colab": {
          "base_uri": "https://localhost:8080/"
        },
        "id": "wngBNA1xz_QU",
        "outputId": "04ee3d2f-e24b-40b3-c967-d71c4d5c8be5"
      },
      "execution_count": 6,
      "outputs": [
        {
          "output_type": "stream",
          "name": "stdout",
          "text": [
            "If\n"
          ]
        }
      ]
    },
    {
      "cell_type": "code",
      "source": [
        "winner = 10\n",
        "\n",
        "if winner != 10:\n",
        "  print(\"If\")\n",
        "elif winner <=25:\n",
        "  print(\"elif\")\n",
        "elif winner <=0:\n",
        "  print(\"elif 2\")\n",
        "elif winner <=55:\n",
        "  print(\"elif 3\")\n",
        "else:\n",
        "  print(\"Else\")"
      ],
      "metadata": {
        "colab": {
          "base_uri": "https://localhost:8080/"
        },
        "id": "VuWsyrr20omQ",
        "outputId": "e69df982-8359-4c2d-90d0-134efce09d52"
      },
      "execution_count": 7,
      "outputs": [
        {
          "output_type": "stream",
          "name": "stdout",
          "text": [
            "elif\n"
          ]
        }
      ]
    },
    {
      "cell_type": "code",
      "source": [
        "winner = 50\n",
        "\n",
        "if winner <= 10:\n",
        "  print(\"If\")\n",
        "elif winner <=25:\n",
        "  print(\"elif\")\n",
        "elif winner <=0:\n",
        "  print(\"elif 2\")\n",
        "elif winner <=55:\n",
        "  print(\"elif 3\")\n",
        "else:\n",
        "  print(\"Else\")"
      ],
      "metadata": {
        "colab": {
          "base_uri": "https://localhost:8080/"
        },
        "id": "kELRlTjt0u5e",
        "outputId": "b8632c4b-dade-4107-ff4a-bea64ba7b188"
      },
      "execution_count": 8,
      "outputs": [
        {
          "output_type": "stream",
          "name": "stdout",
          "text": [
            "elif 3\n"
          ]
        }
      ]
    },
    {
      "cell_type": "code",
      "source": [
        "winner = 500\n",
        "\n",
        "if winner <= 10:\n",
        "  print(\"If\")\n",
        "elif winner <=25:\n",
        "  print(\"elif\")\n",
        "elif winner <=0:\n",
        "  print(\"elif 2\")\n",
        "elif winner <=55:\n",
        "  print(\"elif 3\")\n",
        "else:\n",
        "  print(\"Else\")"
      ],
      "metadata": {
        "colab": {
          "base_uri": "https://localhost:8080/"
        },
        "id": "5anIwwl_0-NM",
        "outputId": "663d904a-c823-4960-8bbb-f850dd786733"
      },
      "execution_count": 11,
      "outputs": [
        {
          "output_type": "stream",
          "name": "stdout",
          "text": [
            "Else\n"
          ]
        }
      ]
    },
    {
      "cell_type": "code",
      "source": [],
      "metadata": {
        "id": "QNRwqRb5yDvc"
      },
      "execution_count": null,
      "outputs": []
    }
  ]
}