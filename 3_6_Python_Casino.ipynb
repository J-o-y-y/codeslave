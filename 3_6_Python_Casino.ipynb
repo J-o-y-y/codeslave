{
  "nbformat": 4,
  "nbformat_minor": 0,
  "metadata": {
    "colab": {
      "provenance": [],
      "authorship_tag": "ABX9TyPDkPyn3C1uiYs5zorgzbFK",
      "include_colab_link": true
    },
    "kernelspec": {
      "name": "python3",
      "display_name": "Python 3"
    },
    "language_info": {
      "name": "python"
    }
  },
  "cells": [
    {
      "cell_type": "markdown",
      "metadata": {
        "id": "view-in-github",
        "colab_type": "text"
      },
      "source": [
        "<a href=\"https://colab.research.google.com/github/J-o-y-y/codeslave/blob/main/3_6_Python_Casino.ipynb\" target=\"_parent\"><img src=\"https://colab.research.google.com/assets/colab-badge.svg\" alt=\"Open In Colab\"/></a>"
      ]
    },
    {
      "cell_type": "markdown",
      "source": [
        "# 3.6 Python Casino"
      ],
      "metadata": {
        "id": "FyXykJU-W9os"
      }
    },
    {
      "cell_type": "code",
      "execution_count": 2,
      "metadata": {
        "colab": {
          "base_uri": "https://localhost:8080/"
        },
        "id": "IsiD_JO3EXfJ",
        "outputId": "d9b0bf7b-7975-4318-dceb-6b968948e6db"
      },
      "outputs": [
        {
          "output_type": "stream",
          "name": "stdout",
          "text": [
            "Welcome to Python Casino\n",
            "Choose number:42\n",
            "Lower!\n",
            "Choose number:30\n",
            "Lower!\n",
            "Choose number:18\n",
            "Higher!\n",
            "Choose number:25\n",
            "Higher!\n",
            "Choose number:28\n",
            "Lower!\n",
            "Choose number:27\n",
            "You won!\n"
          ]
        }
      ],
      "source": [
        "from random import randint\n",
        "print(\"Welcome to Python Casino\")\n",
        "pc_choice = randint(1,50)\n",
        "\n",
        "playing = True\n",
        "\n",
        "while playing:\n",
        "  user_choice = int(input(\"Choose number:\")) \n",
        "  if user_choice == pc_choice:\n",
        "    print(\"You won!\")\n",
        "    playing = False\n",
        "  elif user_choice > pc_choice:\n",
        "    print(\"Lower!\")\n",
        "  elif user_choice < pc_choice:\n",
        "    print(\"Higher!\")"
      ]
    },
    {
      "cell_type": "code",
      "source": [
        "from random import randint\n",
        "print(\"Welcome to Python Casino\")\n",
        "pc_choice = randint(1,100)\n",
        "\n",
        "playing = True\n",
        "\n",
        "while playing:\n",
        "  user_choice = int(input(\"Choose number (1-100):\")) \n",
        "  if user_choice == pc_choice:\n",
        "    print(\"You won!\")\n",
        "    playing = False\n",
        "  elif user_choice > pc_choice:\n",
        "    print(\"Lower!\")\n",
        "  elif user_choice < pc_choice:\n",
        "    print(\"Higher!\")"
      ],
      "metadata": {
        "colab": {
          "base_uri": "https://localhost:8080/"
        },
        "id": "4ejrLDqBbNUV",
        "outputId": "0677ebc5-57b7-4348-a9ab-05813d63813b"
      },
      "execution_count": 3,
      "outputs": [
        {
          "output_type": "stream",
          "name": "stdout",
          "text": [
            "Welcome to Python Casino\n",
            "Choose number (1-100):50\n",
            "Higher!\n",
            "Choose number (1-100):85\n",
            "Lower!\n",
            "Choose number (1-100):70\n",
            "Lower!\n",
            "Choose number (1-100):60\n",
            "Lower!\n",
            "Choose number (1-100):55\n",
            "Lower!\n",
            "Choose number (1-100):53\n",
            "Lower!\n",
            "Choose number (1-100):52\n",
            "Lower!\n",
            "Choose number (1-100):51\n",
            "You won!\n"
          ]
        }
      ]
    }
  ]
}