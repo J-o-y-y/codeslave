{
  "nbformat": 4,
  "nbformat_minor": 0,
  "metadata": {
    "colab": {
      "provenance": [],
      "authorship_tag": "ABX9TyO+Wknq9KaBCazj3XGzCHTi",
      "include_colab_link": true
    },
    "kernelspec": {
      "name": "python3",
      "display_name": "Python 3"
    },
    "language_info": {
      "name": "python"
    }
  },
  "cells": [
    {
      "cell_type": "markdown",
      "metadata": {
        "id": "view-in-github",
        "colab_type": "text"
      },
      "source": [
        "<a href=\"https://colab.research.google.com/github/J-o-y-y/codeslave/blob/main/%EC%9D%B8%EA%B3%B5%EC%A7%80%EB%8A%A5_%ED%8A%B9%EA%B0%95_%ED%80%B4%EC%A6%88%ED%92%80%EA%B8%B0.ipynb\" target=\"_parent\"><img src=\"https://colab.research.google.com/assets/colab-badge.svg\" alt=\"Open In Colab\"/></a>"
      ]
    },
    {
      "cell_type": "markdown",
      "source": [
        "# 사용자로부터 XY좌표 공간에서의 점의 위치를 입력받아 해당 점이 몇 사분면에 있는지 판단하는 시스템을 만드세요.\n",
        "\n",
        "Enter a X-coordinate of the point :3\n",
        "Enter a Y-coordinate of the point :4\n",
        "\n",
        "The point (3,4) lies in the First quadrant"
      ],
      "metadata": {
        "id": "eGYo-VqfXIbL"
      }
    },
    {
      "cell_type": "code",
      "execution_count": null,
      "metadata": {
        "id": "lMe34fMSXGuh"
      },
      "outputs": [],
      "source": [
        "x = float(input(\"X : \"))\n",
        "y = float(input(\"Y : \"))\n",
        "\n",
        "\n",
        "if x > 0 and y > 0:\n",
        "    quadrant = \"First quadrant\"\n",
        "elif x < 0 and y > 0:\n",
        "    quadrant = \"Second quadrant\"\n",
        "elif x < 0 and y < 0:\n",
        "    quadrant = \"Third quadrant\"\n",
        "elif x > 0 and y < 0:\n",
        "    quadrant = \"Fourth quadrant\"\n",
        "elif x == 0 and y != 0:\n",
        "    quadrant = \"Y축\"\n",
        "elif x != 0 and y == 0:\n",
        "    quadrant = \"X축\"\n",
        "else:\n",
        "    quadrant = \"원점 (0, 0)\"\n",
        "\n",
        "print(f\"The point ({x},{y}) lies in the {quadrant}.\")\n"
      ]
    },
    {
      "cell_type": "markdown",
      "source": [
        "# 삼각형 조건 검사\n",
        "\n",
        "사용자로부터 3개의 정수를 입력 받고 해당 숫자들을 삼각형을 구성하는 각 변의 길이로 삼을 수 있는지 판단하는 프로그램을 작성하세요. 만약 가능하다면 \"Possible\", 불가능하다면 \"Impossible\"을 출력하도록 하세요.\n",
        "\n",
        "- 삼각형의 조건 : 두변의 길이의 합이 나머지 한 변의 길이보다 반드시 커야한다.\n",
        "\n",
        "------------------------\n",
        "Enter three different integers : 4 3 8,\n",
        "\n",
        "Impossible"
      ],
      "metadata": {
        "id": "TbHVaQPZbsA7"
      }
    },
    {
      "cell_type": "code",
      "source": [
        "\n",
        "side1 = int(input(\"첫 번째 정수를 입력하세요: \"))\n",
        "side2 = int(input(\"두 번째 정수를 입력하세요: \"))\n",
        "side3 = int(input(\"세 번째 정수를 입력하세요: \"))\n",
        "\n",
        "\n",
        "if side1 + side2 > side3 and side1 + side3 > side2 and side2 + side3 > side1:\n",
        "    print(\"Possible\")\n",
        "else:\n",
        "    print(\"Impossible\")\n"
      ],
      "metadata": {
        "colab": {
          "base_uri": "https://localhost:8080/"
        },
        "id": "SC7QJykybVnT",
        "outputId": "e084f248-6b32-49cc-fcdd-300bb80b551e"
      },
      "execution_count": null,
      "outputs": [
        {
          "output_type": "stream",
          "name": "stdout",
          "text": [
            "첫 번째 정수를 입력하세요: 4\n",
            "두 번째 정수를 입력하세요: 3\n",
            "세 번째 정수를 입력하세요: 8\n",
            "Impossible\n"
          ]
        }
      ]
    },
    {
      "cell_type": "code",
      "source": [
        "numbers = input (\"3개 숫자 입력: \")"
      ],
      "metadata": {
        "id": "9YnvPbvDdv8c"
      },
      "execution_count": null,
      "outputs": []
    },
    {
      "cell_type": "code",
      "source": [
        "type(numbers)"
      ],
      "metadata": {
        "id": "NlBb7XCed1by"
      },
      "execution_count": null,
      "outputs": []
    },
    {
      "cell_type": "markdown",
      "source": [
        "# 사용자로부터 자연수를 입력받아 해당 숫자가 소수(prime number)인지 판별하는 프로그램을 작성하세요. 소수는 1과 자기 자신으로 밖에 나뉘지 않는 자연수입니다.\n",
        "\n",
        "참고로 1은 소수가 아님."
      ],
      "metadata": {
        "id": "YOVaM_pvi6EJ"
      }
    },
    {
      "cell_type": "code",
      "source": [
        "num = int(input(\"Enter a number: \"))\n",
        "\n",
        "# 1은 소수가 아님\n",
        "if num <= 1:\n",
        "    print(\"1은 소수가 아님.\")\n",
        "else:\n",
        "    is_prime = True\n",
        "\n",
        "    # 2부터 입력받은 숫자까지 반복하여 나누어 떨어지는지 확인\n",
        "    for i in range(2, num):\n",
        "        if num % i == 0:\n",
        "            is_prime = False\n",
        "            break\n",
        "\n",
        "    if is_prime:\n",
        "        print(f\"{num}은(는) 소수.\")\n",
        "    else:\n",
        "        print(f\"{num}은(는) 소수가 아님.\")\n"
      ],
      "metadata": {
        "colab": {
          "base_uri": "https://localhost:8080/"
        },
        "id": "W2Ieu3ETjMPB",
        "outputId": "d8234576-9bf6-4083-9b1e-1180f8f85fba"
      },
      "execution_count": null,
      "outputs": [
        {
          "output_type": "stream",
          "name": "stdout",
          "text": [
            "Enter a number: 0\n",
            "1은 소수가 아님.\n"
          ]
        }
      ]
    },
    {
      "cell_type": "code",
      "source": [
        "sample = int(input(\"자연수를 입력하세요:\"))\n",
        "\n",
        "if sample == 1:\n",
        "  print(\"소수아님\")\n",
        "else:\n",
        "    for i in range(2, sample+1) :\n",
        "      if sample % i == 0:\n",
        "          break\n",
        "    if i != sample: # 소수가\n",
        "      print(\"소수아님\")\n",
        "    else:\n",
        "      print(\"소수\")\n"
      ],
      "metadata": {
        "id": "0DCCypodnE9k"
      },
      "execution_count": null,
      "outputs": []
    },
    {
      "cell_type": "markdown",
      "source": [
        "# 사용자로부터 자연수, n을 입력받아 n이하의 홀수들의 계승(factorial)을 구하는 프로그램을 작성하세요.\n",
        "\n",
        "(math라이브러리 사용하지 말고 알고리즘 구현)\n",
        "(줄바꿈)"
      ],
      "metadata": {
        "id": "THgW81lgozzt"
      }
    },
    {
      "cell_type": "code",
      "source": [
        "n = int(input(\"자연수를 입력하세요: \"))\n",
        "\n",
        "# 초기값 설정\n",
        "result = 1\n",
        "\n",
        "# 1부터 n까지 홀수들의 계승 계산\n",
        "for i in range(1, n + 1, 2):\n",
        "    result *= i\n",
        "\n",
        "print(f\"{n} 이하의 홀수들의 계승은 {result}입니다.\")\n"
      ],
      "metadata": {
        "colab": {
          "base_uri": "https://localhost:8080/"
        },
        "id": "EL8AG_jGoy_e",
        "outputId": "3a74dc52-7ea2-4420-cc60-f5b0accf84b2"
      },
      "execution_count": null,
      "outputs": [
        {
          "output_type": "stream",
          "name": "stdout",
          "text": [
            "자연수를 입력하세요: 9\n",
            "9 이하의 홀수들의 계승은 945입니다.\n"
          ]
        }
      ]
    },
    {
      "cell_type": "code",
      "source": [
        "print(10, end='')\n",
        "print(20)"
      ],
      "metadata": {
        "colab": {
          "base_uri": "https://localhost:8080/"
        },
        "id": "uudTa7ReprKZ",
        "outputId": "9f68140e-fb6c-4a5d-83a0-46e73f4d48cd"
      },
      "execution_count": null,
      "outputs": [
        {
          "output_type": "stream",
          "name": "stdout",
          "text": [
            "1020\n"
          ]
        }
      ]
    },
    {
      "cell_type": "code",
      "source": [
        "num = int(input(\"숫자를 입력하세요:\"))\n",
        "print('n'.ljust(12), end='')\n",
        "print(\"!\")\n",
        "print()\n",
        "for i in range(1, num+1, 2):\n",
        "  #if i % 2==1:\n",
        "#!1부터 자기 자신까지 곱하기\n",
        "  for j in range(1, i+1)\n",
        "      start *= j\n",
        "  print(str(i)).ljust(12), end='')\n",
        "  print(str(start))"
      ],
      "metadata": {
        "id": "7y55qqwhuELc"
      },
      "execution_count": null,
      "outputs": []
    }
  ]
}