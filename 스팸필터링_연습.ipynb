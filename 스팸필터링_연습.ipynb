{
  "nbformat": 4,
  "nbformat_minor": 0,
  "metadata": {
    "colab": {
      "provenance": [],
      "authorship_tag": "ABX9TyMw6jXxKCuuWDY4Seswy/eN",
      "include_colab_link": true
    },
    "kernelspec": {
      "name": "python3",
      "display_name": "Python 3"
    },
    "language_info": {
      "name": "python"
    }
  },
  "cells": [
    {
      "cell_type": "markdown",
      "metadata": {
        "id": "view-in-github",
        "colab_type": "text"
      },
      "source": [
        "<a href=\"https://colab.research.google.com/github/J-o-y-y/codeslave/blob/main/%EC%8A%A4%ED%8C%B8%ED%95%84%ED%84%B0%EB%A7%81_%EC%97%B0%EC%8A%B5.ipynb\" target=\"_parent\"><img src=\"https://colab.research.google.com/assets/colab-badge.svg\" alt=\"Open In Colab\"/></a>"
      ]
    },
    {
      "cell_type": "markdown",
      "source": [
        "# 스팸필터링을 NBC(나이브베이즈분류 모델)을 쌩으로 구현해서 함수화.\n",
        "\n",
        "1) 전처리 : 단어를 공백으로 분리하여, 단어별 빈도수 세기\n",
        "\n",
        "2) 스팸/정상일 경우 조건부 확률 계산 : 각 단어빈도를 활용하여 스팸/정상일 경우 조건부 확률 계산 (라플라스 스무딩 적용)\n",
        "\n",
        "3) 조건부 확률에 로그 적용\n",
        "\n",
        "4) 스팸/정상에 대한 사전확률 계산 및 로그 적용\n",
        "\n",
        "5) 베이즈 정리를 적용하여 **“Free Lottery”** 단어 등장시 스팸일 확률과 정상일 확률 계산\n",
        "\n",
        "이를 함수로 구현.\n",
        "\n"
      ],
      "metadata": {
        "id": "DNv1FtCzoW5S"
      }
    },
    {
      "cell_type": "markdown",
      "source": [
        "training_set = [[‘me free lottery’, 1],\n",
        " [‘free get free you’, 1],\n",
        " [‘you free scholarship’, 0],\n",
        " [‘free to contact me’, 0],\n",
        " [‘you won award’, 0],\n",
        " [‘you ticket lottery’, 1]]\n",
        "3:40\n",
        "test = [‘free lottery’]"
      ],
      "metadata": {
        "id": "Qul1FEV9ogrI"
      }
    },
    {
      "cell_type": "code",
      "execution_count": 1,
      "metadata": {
        "colab": {
          "base_uri": "https://localhost:8080/"
        },
        "id": "N_UhlbNRnOWV",
        "outputId": "be81e715-dcec-4b8c-f0f1-3bce7660220b"
      },
      "outputs": [
        {
          "output_type": "stream",
          "name": "stdout",
          "text": [
            "입력 텍스트 \"Free Lottery\"는 정상메일 입니다.\n"
          ]
        }
      ],
      "source": [
        "import math\n",
        "\n",
        "# 훈련 데이터셋\n",
        "training_set = [\n",
        "    ['mefreelottery', '스팸메일'],\n",
        "    ['freegetfreeyou', '스팸메일'],\n",
        "    ['youfreescholarship', '정상메일'],\n",
        "    ['freetocontactme', '정상메일'],\n",
        "    ['youwonaward', '정상메일'],\n",
        "    ['youticketlottery', '스팸메일']\n",
        "]\n",
        "\n",
        "# 전체 이메일 수\n",
        "total_emails = len(training_set)\n",
        "\n",
        "# 스팸과 정상 메일의 개수 계산\n",
        "spam_count = sum(1 for email in training_set if email[1] == '스팸메일')\n",
        "normal_count = sum(1 for email in training_set if email[1] == '정상메일')\n",
        "\n",
        "# 사전확률 계산\n",
        "p_spam = spam_count / total_emails\n",
        "p_normal = normal_count / total_emails\n",
        "\n",
        "# 모든 단어들을 공백을 기준으로 분리하고 빈도수 계산\n",
        "word_counts = {}\n",
        "for email, label in training_set:\n",
        "    words = email.split()\n",
        "    for word in words:\n",
        "        if word in word_counts:\n",
        "            word_counts[word][label] = word_counts[word].get(label, 0) + 1\n",
        "        else:\n",
        "            word_counts[word] = {label: 1}\n",
        "\n",
        "# 라플라스 스무딩 적용 및 로그 적용\n",
        "alpha = 1  # 라플라스 스무딩 하이퍼파라미터\n",
        "vocabulary_size = len(word_counts)\n",
        "\n",
        "def calculate_conditional_probability(word, label):\n",
        "    count_word_label = word_counts.get(word, {}).get(label, 0)\n",
        "    count_label = spam_count if label == '스팸메일' else normal_count\n",
        "    return math.log((count_word_label + alpha) / (count_label + alpha * vocabulary_size))\n",
        "\n",
        "# 입력 텍스트 분류\n",
        "def classify_email(input_text):\n",
        "    words = input_text.split()\n",
        "    p_spam_given_words = math.log(p_spam)\n",
        "    p_normal_given_words = math.log(p_normal)\n",
        "\n",
        "    for word in words:\n",
        "        p_spam_given_words += calculate_conditional_probability(word, '스팸메일')\n",
        "        p_normal_given_words += calculate_conditional_probability(word, '정상메일')\n",
        "\n",
        "    if p_spam_given_words > p_normal_given_words:\n",
        "        return '스팸메일'\n",
        "    else:\n",
        "        return '정상메일'\n",
        "\n",
        "# 테스트 데이터\n",
        "test_email = 'Free Lottery'\n",
        "result = classify_email(test_email)\n",
        "print(f'입력 텍스트 \"{test_email}\"는 {result} 입니다.')\n"
      ]
    }
  ]
}