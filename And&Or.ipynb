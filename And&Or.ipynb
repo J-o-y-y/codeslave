{
  "nbformat": 4,
  "nbformat_minor": 0,
  "metadata": {
    "colab": {
      "provenance": [],
      "authorship_tag": "ABX9TyMVgJZuZPKNp067CavBietH",
      "include_colab_link": true
    },
    "kernelspec": {
      "name": "python3",
      "display_name": "Python 3"
    },
    "language_info": {
      "name": "python"
    }
  },
  "cells": [
    {
      "cell_type": "markdown",
      "metadata": {
        "id": "view-in-github",
        "colab_type": "text"
      },
      "source": [
        "<a href=\"https://colab.research.google.com/github/J-o-y-y/codeslave/blob/main/And%26Or.ipynb\" target=\"_parent\"><img src=\"https://colab.research.google.com/assets/colab-badge.svg\" alt=\"Open In Colab\"/></a>"
      ]
    },
    {
      "cell_type": "code",
      "execution_count": null,
      "metadata": {
        "id": "d0IL3s5U1zPd"
      },
      "outputs": [],
      "source": [
        "#And & Or"
      ]
    },
    {
      "cell_type": "code",
      "source": [
        "age = int(input(\"How old are you?\"))\n",
        "\n",
        "if age < 18:\n",
        "  print(\"You can't drink.\")\n",
        "elif age >= 18 and age < 35 :\n",
        "  print (\"You drink beer!\")\n",
        "else:\n",
        "  print(\"Go ahead!\")\n",
        "\n"
      ],
      "metadata": {
        "id": "AtA6paMu116k"
      },
      "execution_count": null,
      "outputs": []
    },
    {
      "cell_type": "markdown",
      "source": [
        "#And\n",
        "\n",
        "True and True == True,\n",
        "True and False == False,\n",
        "False and True == False"
      ],
      "metadata": {
        "id": "3IhF61Sg0Edd"
      }
    },
    {
      "cell_type": "markdown",
      "source": [
        "#Or\n",
        "True or True == True\n",
        "True or False == True\n",
        "False or True == True\n",
        "False or False == False"
      ],
      "metadata": {
        "id": "KcX7QJb56oyT"
      }
    }
  ]
}