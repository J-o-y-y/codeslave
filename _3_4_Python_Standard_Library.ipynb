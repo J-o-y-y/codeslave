{
  "nbformat": 4,
  "nbformat_minor": 0,
  "metadata": {
    "colab": {
      "provenance": [],
      "authorship_tag": "ABX9TyP2U97+x0oSV2+z+mM7rZc9",
      "include_colab_link": true
    },
    "kernelspec": {
      "name": "python3",
      "display_name": "Python 3"
    },
    "language_info": {
      "name": "python"
    }
  },
  "cells": [
    {
      "cell_type": "markdown",
      "metadata": {
        "id": "view-in-github",
        "colab_type": "text"
      },
      "source": [
        "<a href=\"https://colab.research.google.com/github/J-o-y-y/codeslave/blob/main/_3_4_Python_Standard_Library.ipynb\" target=\"_parent\"><img src=\"https://colab.research.google.com/assets/colab-badge.svg\" alt=\"Open In Colab\"/></a>"
      ]
    },
    {
      "cell_type": "markdown",
      "source": [
        "#3.4 Python Standard Library : \n",
        "컴퓨터랑 업다운게임하기"
      ],
      "metadata": {
        "id": "Z2JS80er2Dhy"
      }
    },
    {
      "cell_type": "code",
      "execution_count": 4,
      "metadata": {
        "colab": {
          "base_uri": "https://localhost:8080/"
        },
        "id": "gtsrSZOp1_8g",
        "outputId": "0a53e249-4e96-4fa5-e596-e4d2e3d4a682"
      },
      "outputs": [
        {
          "output_type": "stream",
          "name": "stdout",
          "text": [
            "Choose number.42\n",
            "Higher!\n"
          ]
        }
      ],
      "source": [
        "user_choice = int(input(\"Choose number.\")) \n",
        "pc_choice = 50\n",
        "\n",
        "if user_choice == pc_choice:\n",
        "  print(\"You won!\")\n",
        "elif user_choice > pc_choice:\n",
        "  print(\"Lower!\")\n",
        "elif user_choice < pc_choice:\n",
        "  print(\"Higher!\")"
      ]
    },
    {
      "cell_type": "markdown",
      "source": [
        "# pc_choice 랜덤숫자생성.\n",
        "\n",
        "random. randint(a,b)\n",
        "  Return a random integer N such that a <= N <= b."
      ],
      "metadata": {
        "id": "VTu4DARQAXRt"
      }
    },
    {
      "cell_type": "code",
      "source": [
        "from random import randint\n",
        "user_choice = int(input(\"Choose number:\")) \n",
        "pc_choice = randint(1,50)\n",
        "\n",
        "if user_choice == pc_choice:\n",
        "  print(\"You won!\")\n",
        "elif user_choice > pc_choice:\n",
        "  print(\"Lower! Computer cose\", pc_choice)\n",
        "elif user_choice < pc_choice:\n",
        "  print(\"Higher! Computer cose\", pc_choice)"
      ],
      "metadata": {
        "colab": {
          "base_uri": "https://localhost:8080/"
        },
        "id": "BbddfXk4675E",
        "outputId": "535f5af1-e3f7-470e-eaa1-e80d7bfd68e8"
      },
      "execution_count": 10,
      "outputs": [
        {
          "output_type": "stream",
          "name": "stdout",
          "text": [
            "Choose number:50\n",
            "Lower! Computer cose 21\n"
          ]
        }
      ]
    },
    {
      "cell_type": "code",
      "source": [],
      "metadata": {
        "id": "GjcfZhJ2-XNA"
      },
      "execution_count": null,
      "outputs": []
    }
  ]
}