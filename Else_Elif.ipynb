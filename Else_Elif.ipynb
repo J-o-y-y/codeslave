{
  "nbformat": 4,
  "nbformat_minor": 0,
  "metadata": {
    "colab": {
      "provenance": [],
      "authorship_tag": "ABX9TyOtsYcAXYWVo9yM4PHq39LJ",
      "include_colab_link": true
    },
    "kernelspec": {
      "name": "python3",
      "display_name": "Python 3"
    },
    "language_info": {
      "name": "python"
    }
  },
  "cells": [
    {
      "cell_type": "markdown",
      "metadata": {
        "id": "view-in-github",
        "colab_type": "text"
      },
      "source": [
        "<a href=\"https://colab.research.google.com/github/J-o-y-y/codeslave/blob/main/Else_Elif.ipynb\" target=\"_parent\"><img src=\"https://colab.research.google.com/assets/colab-badge.svg\" alt=\"Open In Colab\"/></a>"
      ]
    },
    {
      "cell_type": "code",
      "execution_count": null,
      "metadata": {
        "id": "AYFggyRKt-cC"
      },
      "outputs": [],
      "source": [
        "# 3. CONTROL FLOW\n",
        "# 3.1 Else & Elif"
      ]
    },
    {
      "cell_type": "code",
      "source": [
        "password_correct = False\n",
        "\n",
        "if password_correct :\n",
        "  print(\"Here is your money\")\n",
        "else:\n",
        "    print(\"Worng password\")"
      ],
      "metadata": {
        "colab": {
          "base_uri": "https://localhost:8080/"
        },
        "id": "SZUwkW45uFFG",
        "outputId": "c215abea-7197-48ca-af63-6e0c8e637ef9"
      },
      "execution_count": 4,
      "outputs": [
        {
          "output_type": "stream",
          "name": "stdout",
          "text": [
            "Worng password\n"
          ]
        }
      ]
    },
    {
      "cell_type": "code",
      "source": [
        "password_correct = True\n",
        "\n",
        "if password_correct :\n",
        "  print(\"Here is your money\")\n",
        "else:\n",
        "    print(\"Worng password\")"
      ],
      "metadata": {
        "colab": {
          "base_uri": "https://localhost:8080/"
        },
        "id": "qldia0tfvDOV",
        "outputId": "31087d18-8734-4999-ec30-26c331f83c0b"
      },
      "execution_count": 5,
      "outputs": [
        {
          "output_type": "stream",
          "name": "stdout",
          "text": [
            "Here is your money\n"
          ]
        }
      ]
    },
    {
      "cell_type": "code",
      "source": [
        "winner = 10\n",
        "\n",
        "if winner > 10:\n",
        "  print(\"Winner is greater than 10\")\n",
        "elif winner < 10:\n",
        "  print(\"Winner is less than 10\")\n",
        "else:\n",
        "  print(\"Winner is 10\")\n"
      ],
      "metadata": {
        "colab": {
          "base_uri": "https://localhost:8080/"
        },
        "id": "VXePLOHtuuoJ",
        "outputId": "fb157f2a-6b3f-458c-b94f-a97454f96693"
      },
      "execution_count": 8,
      "outputs": [
        {
          "output_type": "stream",
          "name": "stdout",
          "text": [
            "Winner is 10\n"
          ]
        }
      ]
    },
    {
      "cell_type": "code",
      "source": [
        "winner = 10\n",
        "\n",
        "if winner > 10:\n",
        "  print(\"Winner is greater than 10\")\n",
        "\n",
        "else:\n",
        "  print(\"Winner is 10\")"
      ],
      "metadata": {
        "colab": {
          "base_uri": "https://localhost:8080/"
        },
        "id": "sPtPWOJHxGpP",
        "outputId": "f80c13da-c4ff-4286-90a4-3a8ce3ea355c"
      },
      "execution_count": 9,
      "outputs": [
        {
          "output_type": "stream",
          "name": "stdout",
          "text": [
            "Winner is 10\n"
          ]
        }
      ]
    },
    {
      "cell_type": "code",
      "source": [
        "winner = 20\n",
        "\n",
        "if winner > 10:\n",
        "  print(\"Winner is greater than 10\")\n",
        "elif winner < 10:\n",
        "  print(\"Winner is less than 10\")\n",
        "else:\n",
        "  print(\"Winner is 10\")"
      ],
      "metadata": {
        "colab": {
          "base_uri": "https://localhost:8080/"
        },
        "id": "3mxcbbwowjvd",
        "outputId": "5d5be677-1af7-49a9-f452-9ef6308151dc"
      },
      "execution_count": 10,
      "outputs": [
        {
          "output_type": "stream",
          "name": "stdout",
          "text": [
            "Winner is greater than 10\n"
          ]
        }
      ]
    },
    {
      "cell_type": "code",
      "source": [
        "winner = 5\n",
        "\n",
        "if winner > 10:\n",
        "  print(\"Winner is greater than 10\")\n",
        "elif winner < 10:\n",
        "  print(\"Winner is less than 10\")\n",
        "else:\n",
        "  print(\"Winner is 10\")"
      ],
      "metadata": {
        "colab": {
          "base_uri": "https://localhost:8080/"
        },
        "id": "UYF9qGO1xXaL",
        "outputId": "183ae748-656b-4c62-a16f-076e8928b9d6"
      },
      "execution_count": 11,
      "outputs": [
        {
          "output_type": "stream",
          "name": "stdout",
          "text": [
            "Winner is less than 10\n"
          ]
        }
      ]
    }
  ]
}