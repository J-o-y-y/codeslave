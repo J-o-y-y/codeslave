{
  "nbformat": 4,
  "nbformat_minor": 0,
  "metadata": {
    "colab": {
      "provenance": [],
      "authorship_tag": "ABX9TyO3MtjokswqAA34Pc+6QIWd",
      "include_colab_link": true
    },
    "kernelspec": {
      "name": "python3",
      "display_name": "Python 3"
    },
    "language_info": {
      "name": "python"
    }
  },
  "cells": [
    {
      "cell_type": "markdown",
      "metadata": {
        "id": "view-in-github",
        "colab_type": "text"
      },
      "source": [
        "<a href=\"https://colab.research.google.com/github/J-o-y-y/codeslave/blob/main/control_flow_if.ipynb\" target=\"_parent\"><img src=\"https://colab.research.google.com/assets/colab-badge.svg\" alt=\"Open In Colab\"/></a>"
      ]
    },
    {
      "cell_type": "code",
      "source": [
        "# 3. CONTROL FLOW\n",
        "# 3.0 IF"
      ],
      "metadata": {
        "id": "8RdXyu8arXr9"
      },
      "execution_count": null,
      "outputs": []
    },
    {
      "cell_type": "code",
      "execution_count": 1,
      "metadata": {
        "colab": {
          "base_uri": "https://localhost:8080/"
        },
        "id": "SHAYgQRrp1CS",
        "outputId": "7dbe835d-3dbc-43b2-ac0d-5203ec21ea86"
      },
      "outputs": [
        {
          "output_type": "stream",
          "name": "stdout",
          "text": [
            "Correct!\n"
          ]
        }
      ],
      "source": [
        "if 10> 5:\n",
        "  print(\"Correct!\")"
      ]
    },
    {
      "cell_type": "code",
      "source": [
        "if 10< 5:\n",
        "  print(\"Correct!\")"
      ],
      "metadata": {
        "id": "5MdP9FOgqCUK"
      },
      "execution_count": 5,
      "outputs": []
    },
    {
      "cell_type": "code",
      "source": [
        "if 10 == 5:\n",
        "  print(\"True!\")"
      ],
      "metadata": {
        "id": "kB3OHXgGqPbN"
      },
      "execution_count": 3,
      "outputs": []
    },
    {
      "cell_type": "code",
      "source": [
        "if 10 == 10:\n",
        "  print(\"True!\")"
      ],
      "metadata": {
        "colab": {
          "base_uri": "https://localhost:8080/"
        },
        "id": "Dx79zbQ2rMhN",
        "outputId": "012c0030-c711-4321-d0ef-4dc90b5f58b8"
      },
      "execution_count": 6,
      "outputs": [
        {
          "output_type": "stream",
          "name": "stdout",
          "text": [
            "True!\n"
          ]
        }
      ]
    },
    {
      "cell_type": "code",
      "source": [
        "a = 10\n",
        "\n",
        "if a == 10:\n",
        "  print(\"True!\")"
      ],
      "metadata": {
        "colab": {
          "base_uri": "https://localhost:8080/"
        },
        "id": "9d1Q8x-KqnEH",
        "outputId": "d5b424f5-7189-437a-9134-c01e2c63e47d"
      },
      "execution_count": 7,
      "outputs": [
        {
          "output_type": "stream",
          "name": "stdout",
          "text": [
            "True!\n"
          ]
        }
      ]
    },
    {
      "cell_type": "code",
      "source": [
        "a = \"joy\"\n",
        "\n",
        "if a == \"joy\":\n",
        "    print(\"True!\")\n"
      ],
      "metadata": {
        "colab": {
          "base_uri": "https://localhost:8080/"
        },
        "id": "uE-e3hvprjbV",
        "outputId": "8d880aae-6e19-4c60-b669-aac617644f78"
      },
      "execution_count": 17,
      "outputs": [
        {
          "output_type": "stream",
          "name": "stdout",
          "text": [
            "True!\n"
          ]
        }
      ]
    },
    {
      "cell_type": "code",
      "source": [],
      "metadata": {
        "id": "dNwfIZnrruHg"
      },
      "execution_count": null,
      "outputs": []
    }
  ]
}