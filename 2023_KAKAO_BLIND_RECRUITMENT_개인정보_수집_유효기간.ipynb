{
  "nbformat": 4,
  "nbformat_minor": 0,
  "metadata": {
    "colab": {
      "provenance": [],
      "authorship_tag": "ABX9TyObNoKrwuBP6kR/nreTuxCL",
      "include_colab_link": true
    },
    "kernelspec": {
      "name": "python3",
      "display_name": "Python 3"
    },
    "language_info": {
      "name": "python"
    }
  },
  "cells": [
    {
      "cell_type": "markdown",
      "metadata": {
        "id": "view-in-github",
        "colab_type": "text"
      },
      "source": [
        "<a href=\"https://colab.research.google.com/github/J-o-y-y/codeslave/blob/main/2023_KAKAO_BLIND_RECRUITMENT_%EA%B0%9C%EC%9D%B8%EC%A0%95%EB%B3%B4_%EC%88%98%EC%A7%91_%EC%9C%A0%ED%9A%A8%EA%B8%B0%EA%B0%84.ipynb\" target=\"_parent\"><img src=\"https://colab.research.google.com/assets/colab-badge.svg\" alt=\"Open In Colab\"/></a>"
      ]
    },
    {
      "cell_type": "code",
      "execution_count": null,
      "metadata": {
        "id": "yXSxII3obtBh"
      },
      "outputs": [],
      "source": [
        "# 2023 카카오 신입 공채 1차 온라인 코딩 테스트 개인정보 수집 유효기간\n",
        "#\n",
        "#include <stdio.h>\n",
        "#include <stdbool.h>\n",
        "#include <stdlib.h>\n",
        "\n",
        "// terms_len은 배열 terms의 길이입니다.\n",
        "// privacies_len은 배열 privacies의 길이입니다.\n",
        "// 파라미터로 주어지는 문자열은 const로 주어집니다. 변경하려면 문자열을 복사해서 사용하세요.\n",
        "int* solution(const char* today, const char* terms[], size_t terms_len, const char* privacies[], size_t privacies_len) {\n",
        "    // return 값은 malloc 등 동적 할당을 사용해주세요. 할당 길이는 상황에 맞게 변경해주세요.\n",
        "    int* answer = (int*)malloc(1);\n",
        "    return answer;\n",
        "}\n",
        "# 문제 링크: http://bit.ly/3YD8XR9\n",
        "\n",
        "def myDays(ymd):\n",
        "    y, m, d = ymd.split('.')\n",
        "    y = int(y)\n",
        "    m = int(m)\n",
        "    d = int(d)\n",
        "    y -= 2000\n",
        "    return (y * 12 * 28) + (m * 28) + d\n",
        "\n",
        "\n",
        "def solution(today, terms, privacies):\n",
        "    answer = []\n",
        "    myterms = {}\n",
        "\n",
        "    today = myDays(today)\n",
        "\n",
        "    for term in terms:\n",
        "        t, months = term.split(' ')\n",
        "        myterms[t] = int(months) * 28\n",
        "\n",
        "    for idx in range(0, len(privacies)):\n",
        "        ymd, t = privacies[idx].split( )\n",
        "        days = myDays(ymd)\n",
        "        if days + myterms.get(t) <= today:\n",
        "            answer.append(idx + 1)\n",
        "\n",
        "    return answer"
      ]
    }
  ]
}